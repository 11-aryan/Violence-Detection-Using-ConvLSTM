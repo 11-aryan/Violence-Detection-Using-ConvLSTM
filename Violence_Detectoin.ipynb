{
  "nbformat": 4,
  "nbformat_minor": 0,
  "metadata": {
    "colab": {
      "name": "Violence Detectoin.ipynb",
      "provenance": [],
      "collapsed_sections": []
    },
    "kernelspec": {
      "name": "python3",
      "display_name": "Python 3"
    },
    "accelerator": "GPU"
  },
  "cells": [
    {
      "cell_type": "code",
      "metadata": {
        "id": "WNCfy93SUefL"
      },
      "source": [
        "%matplotlib inline\n",
        "import cv2\n",
        "import os\n",
        "import numpy as np\n",
        "import keras\n",
        "import matplotlib.pyplot as plt\n",
        "from random import shuffle\n",
        "from keras.applications import VGG16\n",
        "from keras import backend as K\n",
        "from keras.models import Model, Sequential\n",
        "from keras.layers import Input\n",
        "from keras.layers import LSTM\n",
        "from keras.layers import Dense, Activation\n",
        "import sys\n",
        "import h5py\n",
        "from keras.models import load_model\n",
        "from collections import deque"
      ],
      "execution_count": null,
      "outputs": []
    },
    {
      "cell_type": "code",
      "metadata": {
        "id": "VLrUDa0lVmS9"
      },
      "source": [
        "# Frame size  \n",
        "img_size = 224\n",
        "\n",
        "img_size_touple = (img_size, img_size)\n",
        "\n",
        "# Number of channels (RGB)\n",
        "num_channels = 3\n",
        "\n",
        "# Flat frame size\n",
        "img_size_flat = img_size * img_size * num_channels\n",
        "\n",
        "# Number of classes for classification (Violence-No Violence)\n",
        "num_classes = 2\n",
        "\n",
        "# Number of files to train\n",
        "_num_files_train = 1\n",
        "\n",
        "# Number of frames per video\n",
        "_images_per_file = 20\n",
        "\n",
        "# Number of frames per training set\n",
        "_num_images_train = _num_files_train * _images_per_file\n",
        "\n",
        "# Video extension\n",
        "video_exts = \".avi\""
      ],
      "execution_count": null,
      "outputs": []
    },
    {
      "cell_type": "code",
      "metadata": {
        "id": "EHHID9Mjn6dm"
      },
      "source": [
        "\"\"\"  Function to get 20 frames from the vedio and convert it into a suitable format  \"\"\"\n",
        "\n",
        "\n",
        "def get_frames(current_dir, file_name):\n",
        "    \n",
        "    in_file = os.path.join(current_dir, file_name)\n",
        "    \n",
        "    images = []\n",
        "    \n",
        "    vidcap = cv2.VideoCapture(in_file)\n",
        "    \n",
        "    success,image = vidcap.read()\n",
        "        \n",
        "    count = 0\n",
        "\n",
        "    while count<_images_per_file:\n",
        "                \n",
        "        RGB_img = cv2.cvtColor(image, cv2.COLOR_BGR2RGB)\n",
        "    \n",
        "        res = cv2.resize(RGB_img, dsize=(img_size, img_size),\n",
        "                                 interpolation=cv2.INTER_CUBIC)\n",
        "    \n",
        "        images.append(res)\n",
        "    \n",
        "        success,image = vidcap.read()\n",
        "    \n",
        "        count += 1\n",
        "        \n",
        "    resul = np.array(images)\n",
        "    \n",
        "    resul = (resul / 255.).astype(np.float16)\n",
        "        \n",
        "    return resul"
      ],
      "execution_count": null,
      "outputs": []
    },
    {
      "cell_type": "code",
      "metadata": {
        "colab": {
          "base_uri": "https://localhost:8080/"
        },
        "id": "LYOhK3xRVqBO",
        "outputId": "1ec2c1fa-4f58-4ef7-b422-990c48529f5d"
      },
      "source": [
        "from google.colab import drive\n",
        "drive.mount('/content/drive')\n",
        "os.chdir('/content/drive/My Drive')"
      ],
      "execution_count": null,
      "outputs": [
        {
          "output_type": "stream",
          "text": [
            "Mounted at /content/drive\n"
          ],
          "name": "stdout"
        }
      ]
    },
    {
      "cell_type": "markdown",
      "metadata": {
        "id": "bGl-z1Y5l5u_"
      },
      "source": [
        "### **Labelling the data**"
      ]
    },
    {
      "cell_type": "code",
      "metadata": {
        "id": "jMDmCE5TmYe-"
      },
      "source": [
        "data_path = \"/content/drive/MyDrive/PBL/fightdata\""
      ],
      "execution_count": null,
      "outputs": []
    },
    {
      "cell_type": "code",
      "metadata": {
        "id": "SU92v9A-VrGz"
      },
      "source": [
        "def label_video_names(in_dir):\n",
        "    \n",
        "    # list containing video names\n",
        "    names = []\n",
        "    # list containin video labels [1, 0] if it has violence and [0, 1] if not\n",
        "    labels = []\n",
        "    \n",
        "    \n",
        "    for current_dir, dir_names,file_names in os.walk(in_dir):\n",
        "        \n",
        "        for file_name in file_names:\n",
        "            \n",
        "            if file_name[0:2] == 'fi':\n",
        "                labels.append([1,0])\n",
        "                names.append(file_name)\n",
        "            elif file_name[0:2] == 'no':\n",
        "                labels.append([0,1])\n",
        "                names.append(file_name)\n",
        "                     \n",
        "            \n",
        "    c = list(zip(names,labels))\n",
        "    # Suffle the data (names and labels)\n",
        "    shuffle(c)\n",
        "    \n",
        "    names, labels = zip(*c)\n",
        "            \n",
        "    return names, labels"
      ],
      "execution_count": null,
      "outputs": []
    },
    {
      "cell_type": "code",
      "metadata": {
        "id": "xVKdCaP-nRvn"
      },
      "source": [
        "names, labels = label_video_names(data_path)"
      ],
      "execution_count": null,
      "outputs": []
    },
    {
      "cell_type": "code",
      "metadata": {
        "colab": {
          "base_uri": "https://localhost:8080/",
          "height": 35
        },
        "id": "i21wMpY4nZpQ",
        "outputId": "6eeed002-ec26-4117-aaf0-55974fa8b855"
      },
      "source": [
        "names[12]"
      ],
      "execution_count": null,
      "outputs": [
        {
          "output_type": "execute_result",
          "data": {
            "application/vnd.google.colaboratory.intrinsic+json": {
              "type": "string"
            },
            "text/plain": [
              "'fi363_xvid.avi'"
            ]
          },
          "metadata": {
            "tags": []
          },
          "execution_count": 8
        }
      ]
    },
    {
      "cell_type": "code",
      "metadata": {
        "id": "5WAJuQ--ngTp"
      },
      "source": [
        "frames = get_frames(data_path, names[9])\n"
      ],
      "execution_count": null,
      "outputs": []
    },
    {
      "cell_type": "code",
      "metadata": {
        "id": "tzmTQKXKooXX"
      },
      "source": [
        "visible_frame = (frames*255).astype('uint8')\n"
      ],
      "execution_count": null,
      "outputs": []
    },
    {
      "cell_type": "code",
      "metadata": {
        "colab": {
          "base_uri": "https://localhost:8080/",
          "height": 287
        },
        "id": "neG9U6K7oyz3",
        "outputId": "d3c16dd8-b46f-4900-bc01-5a42fc7731a2"
      },
      "source": [
        "plt.imshow(visible_frame[3])\n"
      ],
      "execution_count": null,
      "outputs": [
        {
          "output_type": "execute_result",
          "data": {
            "text/plain": [
              "<matplotlib.image.AxesImage at 0x7ff3d43b6ba8>"
            ]
          },
          "metadata": {
            "tags": []
          },
          "execution_count": 21
        },
        {
          "output_type": "display_data",
          "data": {
            "image/png": "[encoded data removed]",
            "text/plain": [
              "<Figure size 432x288 with 1 Axes>"
            ]
          },
          "metadata": {
            "tags": [],
            "needs_background": "light"
          }
        }
      ]
    },
    {
      "cell_type": "code",
      "metadata": {
        "colab": {
          "base_uri": "https://localhost:8080/",
          "height": 287
        },
        "id": "3hrK3hlLo1Ss",
        "outputId": "f878d971-37b2-490d-8c29-467d35a0326b"
      },
      "source": [
        "plt.imshow(visible_frame[15])\n"
      ],
      "execution_count": null,
      "outputs": [
        {
          "output_type": "execute_result",
          "data": {
            "text/plain": [
              "<matplotlib.image.AxesImage at 0x7ff3d431e978>"
            ]
          },
          "metadata": {
            "tags": []
          },
          "execution_count": 22
        },
        {
          "output_type": "display_data",
          "data": {
            "image/png": "[encoded data removed]",
            "text/plain": [
              "<Figure size 432x288 with 1 Axes>"
            ]
          },
          "metadata": {
            "tags": [],
            "needs_background": "light"
          }
        }
      ]
    },
    {
      "cell_type": "markdown",
      "metadata": {
        "id": "6Gq36GZs4rB1"
      },
      "source": [
        "### **Loading the VGG16 model**"
      ]
    },
    {
      "cell_type": "code",
      "metadata": {
        "id": "CmvozDelo8pL",
        "colab": {
          "base_uri": "https://localhost:8080/"
        },
        "outputId": "284d7985-bc23-4d90-ef8b-a8ea516daf26"
      },
      "source": [
        "#Loading the pretrained model\n",
        "\n",
        "image_model = VGG16(include_top=True, weights='imagenet')\n"
      ],
      "execution_count": null,
      "outputs": [
        {
          "output_type": "stream",
          "text": [
            "Downloading data from https://storage.googleapis.com/tensorflow/keras-applications/vgg16/vgg16_weights_tf_dim_ordering_tf_kernels.h5\n",
            "553467904/553467096 [==============================] - 8s 0us/step\n"
          ],
          "name": "stdout"
        }
      ]
    },
    {
      "cell_type": "code",
      "metadata": {
        "colab": {
          "base_uri": "https://localhost:8080/"
        },
        "id": "6WnDXprrpM9P",
        "outputId": "9b344da7-ec4f-4791-9b5c-145c2e650a27"
      },
      "source": [
        "image_model.summary()"
      ],
      "execution_count": null,
      "outputs": [
        {
          "output_type": "stream",
          "text": [
            "Model: \"vgg16\"\n",
            "_________________________________________________________________\n",
            "Layer (type)                 Output Shape              Param #   \n",
            "=================================================================\n",
            "input_1 (InputLayer)         [(None, 224, 224, 3)]     0         \n",
            "_________________________________________________________________\n",
            "block1_conv1 (Conv2D)        (None, 224, 224, 64)      1792      \n",
            "_________________________________________________________________\n",
            "block1_conv2 (Conv2D)        (None, 224, 224, 64)      36928     \n",
            "_________________________________________________________________\n",
            "block1_pool (MaxPooling2D)   (None, 112, 112, 64)      0         \n",
            "_________________________________________________________________\n",
            "block2_conv1 (Conv2D)        (None, 112, 112, 128)     73856     \n",
            "_________________________________________________________________\n",
            "block2_conv2 (Conv2D)        (None, 112, 112, 128)     147584    \n",
            "_________________________________________________________________\n",
            "block2_pool (MaxPooling2D)   (None, 56, 56, 128)       0         \n",
            "_________________________________________________________________\n",
            "block3_conv1 (Conv2D)        (None, 56, 56, 256)       295168    \n",
            "_________________________________________________________________\n",
            "block3_conv2 (Conv2D)        (None, 56, 56, 256)       590080    \n",
            "_________________________________________________________________\n",
            "block3_conv3 (Conv2D)        (None, 56, 56, 256)       590080    \n",
            "_________________________________________________________________\n",
            "block3_pool (MaxPooling2D)   (None, 28, 28, 256)       0         \n",
            "_________________________________________________________________\n",
            "block4_conv1 (Conv2D)        (None, 28, 28, 512)       1180160   \n",
            "_________________________________________________________________\n",
            "block4_conv2 (Conv2D)        (None, 28, 28, 512)       2359808   \n",
            "_________________________________________________________________\n",
            "block4_conv3 (Conv2D)        (None, 28, 28, 512)       2359808   \n",
            "_________________________________________________________________\n",
            "block4_pool (MaxPooling2D)   (None, 14, 14, 512)       0         \n",
            "_________________________________________________________________\n",
            "block5_conv1 (Conv2D)        (None, 14, 14, 512)       2359808   \n",
            "_________________________________________________________________\n",
            "block5_conv2 (Conv2D)        (None, 14, 14, 512)       2359808   \n",
            "_________________________________________________________________\n",
            "block5_conv3 (Conv2D)        (None, 14, 14, 512)       2359808   \n",
            "_________________________________________________________________\n",
            "block5_pool (MaxPooling2D)   (None, 7, 7, 512)         0         \n",
            "_________________________________________________________________\n",
            "flatten (Flatten)            (None, 25088)             0         \n",
            "_________________________________________________________________\n",
            "fc1 (Dense)                  (None, 4096)              102764544 \n",
            "_________________________________________________________________\n",
            "fc2 (Dense)                  (None, 4096)              16781312  \n",
            "_________________________________________________________________\n",
            "predictions (Dense)          (None, 1000)              4097000   \n",
            "=================================================================\n",
            "Total params: 138,357,544\n",
            "Trainable params: 138,357,544\n",
            "Non-trainable params: 0\n",
            "_________________________________________________________________\n"
          ],
          "name": "stdout"
        }
      ]
    },
    {
      "cell_type": "code",
      "metadata": {
        "colab": {
          "base_uri": "https://localhost:8080/"
        },
        "id": "VEvpwbGb_OkT",
        "outputId": "6ed3b57e-9451-4569-e5fd-8cf4d6b2e15b"
      },
      "source": [
        "input_shape = image_model.get_layer('input_1').output_shape[:]\n",
        "input_shape = list(input_shape[0])\n",
        "input_shape = tuple(input_shape[1:3])\n",
        "input_shape"
      ],
      "execution_count": null,
      "outputs": [
        {
          "output_type": "execute_result",
          "data": {
            "text/plain": [
              "(224, 224)"
            ]
          },
          "metadata": {
            "tags": []
          },
          "execution_count": 25
        }
      ]
    },
    {
      "cell_type": "code",
      "metadata": {
        "id": "-1NRjZhn_VqC"
      },
      "source": [
        ""
      ],
      "execution_count": null,
      "outputs": []
    },
    {
      "cell_type": "code",
      "metadata": {
        "colab": {
          "base_uri": "https://localhost:8080/"
        },
        "id": "Xw_UuY8D_bZB",
        "outputId": "b024f6b7-1704-4c55-8e3e-3b7127f82901"
      },
      "source": [
        "# We will use the output of the layer 'fc2' prior to the final layer\n",
        "\n",
        "transfer_layer = image_model.get_layer('fc2')\n",
        "\n",
        "image_model_transfer = Model(inputs=image_model.input,\n",
        "                             outputs=transfer_layer.output)\n",
        "\n",
        "transfer_values_size = K.int_shape(transfer_layer.output)[1]\n",
        "\n",
        "\n",
        "print(\"The input of the VGG16 net have dimensions:\",K.int_shape(image_model.input)[1:3])\n",
        "\n",
        "print(\"The output of the selecter layer of VGG16 net have dimensions: \", transfer_values_size)"
      ],
      "execution_count": null,
      "outputs": [
        {
          "output_type": "stream",
          "text": [
            "The input of the VGG16 net have dimensions: (224, 224)\n",
            "The output of the selecter layer of VGG16 net have dimensions:  4096\n"
          ],
          "name": "stdout"
        }
      ]
    },
    {
      "cell_type": "code",
      "metadata": {
        "id": "CdMda7CsDVRK"
      },
      "source": [
        ""
      ],
      "execution_count": null,
      "outputs": []
    },
    {
      "cell_type": "code",
      "metadata": {
        "id": "981Kw6NLDlK6"
      },
      "source": [
        "# Function to process 20 frames through VGG16 and get transfer values\n",
        "\n",
        "def get_transfer_values(current_dir, file_name):\n",
        "    \n",
        "    # Pre-allocate input-batch-array for images.\n",
        "    shape = (_images_per_file,) + img_size_touple + (3,)\n",
        "    \n",
        "    image_batch = np.zeros(shape=shape, dtype=np.float16)\n",
        "    \n",
        "    image_batch = get_frames(current_dir, file_name)\n",
        "      \n",
        "    # Pre-allocate output-array for transfer-values.\n",
        "    # Note that we use 16-bit floating-points to save memory.\n",
        "    shape = (_images_per_file, transfer_values_size)\n",
        "    transfer_values = np.zeros(shape=shape, dtype=np.float16)\n",
        "\n",
        "    transfer_values = \\\n",
        "            image_model_transfer.predict(image_batch)\n",
        "            \n",
        "    return transfer_values\n"
      ],
      "execution_count": null,
      "outputs": []
    },
    {
      "cell_type": "code",
      "metadata": {
        "id": "QG9X-G9yEWDc"
      },
      "source": [
        ""
      ],
      "execution_count": null,
      "outputs": []
    },
    {
      "cell_type": "code",
      "metadata": {
        "id": "ZofcB6fiFDhN"
      },
      "source": [
        "# Function to process one video through VGG16 each function call\n",
        "\n",
        "def proces_transfer(vid_names, in_dir, labels):\n",
        "    \n",
        "    count = 0\n",
        "    \n",
        "    tam = len(vid_names)\n",
        "    \n",
        "    # Pre-allocate input-batch-array for images.\n",
        "    shape = (_images_per_file,) + img_size_touple + (3,)\n",
        "    \n",
        "    while count<tam:\n",
        "        \n",
        "        video_name = vid_names[count]\n",
        "        \n",
        "        image_batch = np.zeros(shape=shape, dtype=np.float16)\n",
        "    \n",
        "        image_batch = get_frames(in_dir, video_name)\n",
        "        \n",
        "         # Note that we use 16-bit floating-points to save memory.\n",
        "        shape = (_images_per_file, transfer_values_size)\n",
        "        transfer_values = np.zeros(shape=shape, dtype=np.float16)\n",
        "        \n",
        "        transfer_values = \\\n",
        "            image_model_transfer.predict(image_batch)\n",
        "         \n",
        "        labels1 = labels[count]\n",
        "        \n",
        "        aux = np.ones([20,2])\n",
        "        \n",
        "        labelss = labels1*aux\n",
        "        \n",
        "        yield transfer_values, labelss\n",
        "        \n",
        "        count+=1"
      ],
      "execution_count": null,
      "outputs": []
    },
    {
      "cell_type": "code",
      "metadata": {
        "id": "yB3MjI_TFSmV"
      },
      "source": [
        ""
      ],
      "execution_count": null,
      "outputs": []
    },
    {
      "cell_type": "code",
      "metadata": {
        "id": "7CIXq8n3F4vl"
      },
      "source": [
        "# Function to get features form all videos and save it\n",
        "\n",
        "def make_files(n_files):\n",
        "    \n",
        "    gen = proces_transfer(names_training, data_path, labels_training)\n",
        "\n",
        "    numer = 1\n",
        "\n",
        "    # Read the first chunk to get the column dtypes\n",
        "    chunk = next(gen)\n",
        "\n",
        "    row_count = chunk[0].shape[0]\n",
        "    row_count2 = chunk[1].shape[0]\n",
        "    \n",
        "    with h5py.File('prueba.h5', 'w') as f:\n",
        "    \n",
        "        # Initialize a resizable dataset to hold the output\n",
        "        maxshape = (None,) + chunk[0].shape[1:]\n",
        "        maxshape2 = (None,) + chunk[1].shape[1:]\n",
        "    \n",
        "    \n",
        "        dset = f.create_dataset('data', shape=chunk[0].shape, maxshape=maxshape,\n",
        "                                chunks=chunk[0].shape, dtype=chunk[0].dtype)\n",
        "    \n",
        "        dset2 = f.create_dataset('labels', shape=chunk[1].shape, maxshape=maxshape2,\n",
        "                                 chunks=chunk[1].shape, dtype=chunk[1].dtype)\n",
        "    \n",
        "         # Write the first chunk of rows\n",
        "        dset[:] = chunk[0]\n",
        "        dset2[:] = chunk[1]\n",
        "\n",
        "        for chunk in gen:\n",
        "            \n",
        "            if numer == n_files:\n",
        "            \n",
        "                break\n",
        "\n",
        "            # Resize the dataset to accommodate the next chunk of rows\n",
        "            dset.resize(row_count + chunk[0].shape[0], axis=0)\n",
        "            dset2.resize(row_count2 + chunk[1].shape[0], axis=0)\n",
        "\n",
        "            # Write the next chunk\n",
        "            dset[row_count:] = chunk[0]\n",
        "            dset2[row_count:] = chunk[1]\n",
        "\n",
        "            # Increment the row count\n",
        "            row_count += chunk[0].shape[0]\n",
        "            row_count2 += chunk[1].shape[0]\n",
        "            \n",
        "            print_progress(numer, n_files)\n",
        "        \n",
        "            numer += 1    "
      ],
      "execution_count": null,
      "outputs": []
    },
    {
      "cell_type": "code",
      "metadata": {
        "id": "BWjKDd9rGEoE"
      },
      "source": [
        "\n",
        "def make_files_test(n_files):\n",
        "    \n",
        "    gen = proces_transfer(names_test, data_path, labels_test)\n",
        "\n",
        "    numer = 1\n",
        "\n",
        "    # Read the first chunk to get the column dtypes\n",
        "    chunk = next(gen)\n",
        "\n",
        "    row_count = chunk[0].shape[0]\n",
        "    row_count2 = chunk[1].shape[0]\n",
        "    \n",
        "    with h5py.File('pruebavalidation.h5', 'w') as f:\n",
        "    \n",
        "        # Initialize a resizable dataset to hold the output\n",
        "        maxshape = (None,) + chunk[0].shape[1:]\n",
        "        maxshape2 = (None,) + chunk[1].shape[1:]\n",
        "    \n",
        "    \n",
        "        dset = f.create_dataset('data', shape=chunk[0].shape, maxshape=maxshape,\n",
        "                                chunks=chunk[0].shape, dtype=chunk[0].dtype)\n",
        "    \n",
        "        dset2 = f.create_dataset('labels', shape=chunk[1].shape, maxshape=maxshape2,\n",
        "                                 chunks=chunk[1].shape, dtype=chunk[1].dtype)\n",
        "    \n",
        "         # Write the first chunk of rows\n",
        "        dset[:] = chunk[0]\n",
        "        dset2[:] = chunk[1]\n",
        "\n",
        "        for chunk in gen:\n",
        "            \n",
        "            if numer == n_files:\n",
        "            \n",
        "                break\n",
        "\n",
        "            # Resize the dataset to accommodate the next chunk of rows\n",
        "            dset.resize(row_count + chunk[0].shape[0], axis=0)\n",
        "            dset2.resize(row_count2 + chunk[1].shape[0], axis=0)\n",
        "\n",
        "            # Write the next chunk\n",
        "            dset[row_count:] = chunk[0]\n",
        "            dset2[row_count:] = chunk[1]\n",
        "\n",
        "            # Increment the row count\n",
        "            row_count += chunk[0].shape[0]\n",
        "            row_count2 += chunk[1].shape[0]\n",
        "            \n",
        "            print_progress(numer, n_files)\n",
        "        \n",
        "            numer += 1"
      ],
      "execution_count": null,
      "outputs": []
    },
    {
      "cell_type": "code",
      "metadata": {
        "id": "yZvJOPJTHQR1"
      },
      "source": [
        "# Function to print the amount of videos processed\n",
        "\n",
        "def print_progress(count, max_count):\n",
        "    # Percentage completion.\n",
        "    pct_complete = count / max_count\n",
        "\n",
        "    # Status-message. Note the \\r which means the line should\n",
        "    # overwrite itself.\n",
        "    msg = \"\\r- Progress: {0:.1%}\".format(pct_complete)\n",
        "\n",
        "    # Print it.\n",
        "    sys.stdout.write(msg)\n",
        "    sys.stdout.flush()"
      ],
      "execution_count": null,
      "outputs": []
    },
    {
      "cell_type": "code",
      "metadata": {
        "id": "RfwNY_j-GRIS"
      },
      "source": [
        ""
      ],
      "execution_count": null,
      "outputs": []
    },
    {
      "cell_type": "code",
      "metadata": {
        "id": "QmduGgUeGqFt"
      },
      "source": [
        "# Splitting the dataset\n",
        "\n",
        "training_set = int(len(names)*0.8)\n",
        "test_set = int(len(names)*0.2)\n",
        "\n",
        "names_training = names[0:training_set]\n",
        "names_test = names[training_set:]\n",
        "\n",
        "labels_training = labels[0:training_set]\n",
        "labels_test = labels[training_set:]"
      ],
      "execution_count": null,
      "outputs": []
    },
    {
      "cell_type": "code",
      "metadata": {
        "id": "jX0QSsIsGu5G"
      },
      "source": [
        "make_files(training_set)\n"
      ],
      "execution_count": null,
      "outputs": []
    },
    {
      "cell_type": "code",
      "metadata": {
        "colab": {
          "base_uri": "https://localhost:8080/",
          "height": 329
        },
        "id": "OQeAWfRNG9d2",
        "outputId": "448c7820-4c9c-45dd-90bf-35f5c0a56492"
      },
      "source": [
        "make_files_test(test_set)\n"
      ],
      "execution_count": null,
      "outputs": [
        {
          "output_type": "stream",
          "text": [
            "- Progress: 4.2%"
          ],
          "name": "stdout"
        },
        {
          "output_type": "error",
          "ename": "KeyboardInterrupt",
          "evalue": "ignored",
          "traceback": [
            "\u001b[0;31m---------------------------------------------------------------------------\u001b[0m",
            "\u001b[0;31mKeyboardInterrupt\u001b[0m                         Traceback (most recent call last)",
            "\u001b[0;32m<ipython-input-37-d48176709bfe>\u001b[0m in \u001b[0;36m<module>\u001b[0;34m()\u001b[0m\n\u001b[0;32m----> 1\u001b[0;31m \u001b[0mmake_files_test\u001b[0m\u001b[0;34m(\u001b[0m\u001b[0mtest_set\u001b[0m\u001b[0;34m)\u001b[0m\u001b[0;34m\u001b[0m\u001b[0;34m\u001b[0m\u001b[0m\n\u001b[0m",
            "\u001b[0;32m<ipython-input-30-3f41504a548f>\u001b[0m in \u001b[0;36mmake_files_test\u001b[0;34m(n_files)\u001b[0m\n\u001b[1;32m     28\u001b[0m         \u001b[0mdset2\u001b[0m\u001b[0;34m[\u001b[0m\u001b[0;34m:\u001b[0m\u001b[0;34m]\u001b[0m \u001b[0;34m=\u001b[0m \u001b[0mchunk\u001b[0m\u001b[0;34m[\u001b[0m\u001b[0;36m1\u001b[0m\u001b[0;34m]\u001b[0m\u001b[0;34m\u001b[0m\u001b[0;34m\u001b[0m\u001b[0m\n\u001b[1;32m     29\u001b[0m \u001b[0;34m\u001b[0m\u001b[0m\n\u001b[0;32m---> 30\u001b[0;31m         \u001b[0;32mfor\u001b[0m \u001b[0mchunk\u001b[0m \u001b[0;32min\u001b[0m \u001b[0mgen\u001b[0m\u001b[0;34m:\u001b[0m\u001b[0;34m\u001b[0m\u001b[0;34m\u001b[0m\u001b[0m\n\u001b[0m\u001b[1;32m     31\u001b[0m \u001b[0;34m\u001b[0m\u001b[0m\n\u001b[1;32m     32\u001b[0m             \u001b[0;32mif\u001b[0m \u001b[0mnumer\u001b[0m \u001b[0;34m==\u001b[0m \u001b[0mn_files\u001b[0m\u001b[0;34m:\u001b[0m\u001b[0;34m\u001b[0m\u001b[0;34m\u001b[0m\u001b[0m\n",
            "\u001b[0;32m<ipython-input-28-5213418eb237>\u001b[0m in \u001b[0;36mproces_transfer\u001b[0;34m(vid_names, in_dir, labels)\u001b[0m\n\u001b[1;32m     16\u001b[0m         \u001b[0mimage_batch\u001b[0m \u001b[0;34m=\u001b[0m \u001b[0mnp\u001b[0m\u001b[0;34m.\u001b[0m\u001b[0mzeros\u001b[0m\u001b[0;34m(\u001b[0m\u001b[0mshape\u001b[0m\u001b[0;34m=\u001b[0m\u001b[0mshape\u001b[0m\u001b[0;34m,\u001b[0m \u001b[0mdtype\u001b[0m\u001b[0;34m=\u001b[0m\u001b[0mnp\u001b[0m\u001b[0;34m.\u001b[0m\u001b[0mfloat16\u001b[0m\u001b[0;34m)\u001b[0m\u001b[0;34m\u001b[0m\u001b[0;34m\u001b[0m\u001b[0m\n\u001b[1;32m     17\u001b[0m \u001b[0;34m\u001b[0m\u001b[0m\n\u001b[0;32m---> 18\u001b[0;31m         \u001b[0mimage_batch\u001b[0m \u001b[0;34m=\u001b[0m \u001b[0mget_frames\u001b[0m\u001b[0;34m(\u001b[0m\u001b[0min_dir\u001b[0m\u001b[0;34m,\u001b[0m \u001b[0mvideo_name\u001b[0m\u001b[0;34m)\u001b[0m\u001b[0;34m\u001b[0m\u001b[0;34m\u001b[0m\u001b[0m\n\u001b[0m\u001b[1;32m     19\u001b[0m \u001b[0;34m\u001b[0m\u001b[0m\n\u001b[1;32m     20\u001b[0m          \u001b[0;31m# Note that we use 16-bit floating-points to save memory.\u001b[0m\u001b[0;34m\u001b[0m\u001b[0;34m\u001b[0m\u001b[0;34m\u001b[0m\u001b[0m\n",
            "\u001b[0;32m<ipython-input-3-935dfa0135df>\u001b[0m in \u001b[0;36mget_frames\u001b[0;34m(current_dir, file_name)\u001b[0m\n\u001b[1;32m      8\u001b[0m     \u001b[0mimages\u001b[0m \u001b[0;34m=\u001b[0m \u001b[0;34m[\u001b[0m\u001b[0;34m]\u001b[0m\u001b[0;34m\u001b[0m\u001b[0;34m\u001b[0m\u001b[0m\n\u001b[1;32m      9\u001b[0m \u001b[0;34m\u001b[0m\u001b[0m\n\u001b[0;32m---> 10\u001b[0;31m     \u001b[0mvidcap\u001b[0m \u001b[0;34m=\u001b[0m \u001b[0mcv2\u001b[0m\u001b[0;34m.\u001b[0m\u001b[0mVideoCapture\u001b[0m\u001b[0;34m(\u001b[0m\u001b[0min_file\u001b[0m\u001b[0;34m)\u001b[0m\u001b[0;34m\u001b[0m\u001b[0;34m\u001b[0m\u001b[0m\n\u001b[0m\u001b[1;32m     11\u001b[0m \u001b[0;34m\u001b[0m\u001b[0m\n\u001b[1;32m     12\u001b[0m     \u001b[0msuccess\u001b[0m\u001b[0;34m,\u001b[0m\u001b[0mimage\u001b[0m \u001b[0;34m=\u001b[0m \u001b[0mvidcap\u001b[0m\u001b[0;34m.\u001b[0m\u001b[0mread\u001b[0m\u001b[0;34m(\u001b[0m\u001b[0;34m)\u001b[0m\u001b[0;34m\u001b[0m\u001b[0;34m\u001b[0m\u001b[0m\n",
            "\u001b[0;31mKeyboardInterrupt\u001b[0m: "
          ]
        }
      ]
    },
    {
      "cell_type": "code",
      "metadata": {
        "id": "199JS_MpJBuD"
      },
      "source": [
        "# Load the transfer values into the disk"
      ],
      "execution_count": null,
      "outputs": []
    },
    {
      "cell_type": "code",
      "metadata": {
        "id": "LgFFYOwSL495"
      },
      "source": [
        "#Function to create batches\n",
        "\n",
        "def process_alldata_training():\n",
        "    \n",
        "    joint_transfer=[]\n",
        "    frames_num=20\n",
        "    count = 0\n",
        "    \n",
        "    with h5py.File('prueba.h5', 'r') as f:\n",
        "            \n",
        "        X_batch = f['data'][:]\n",
        "        y_batch = f['labels'][:]\n",
        "\n",
        "    for i in range(int(len(X_batch)/frames_num)):\n",
        "        inc = count+frames_num\n",
        "        joint_transfer.append([X_batch[count:inc],y_batch[count]])\n",
        "        count =inc\n",
        "        \n",
        "    data =[]\n",
        "    target=[]\n",
        "    \n",
        "    for i in joint_transfer:\n",
        "        data.append(i[0])\n",
        "        target.append(np.array(i[1]))\n",
        "        \n",
        "    return data, target"
      ],
      "execution_count": null,
      "outputs": []
    },
    {
      "cell_type": "code",
      "metadata": {
        "id": "O6sH70xxMDej"
      },
      "source": [
        "def process_alldata_test():\n",
        "    \n",
        "    joint_transfer=[]\n",
        "    frames_num=20\n",
        "    count = 0\n",
        "    \n",
        "    with h5py.File('pruebavalidation.h5', 'r') as f:\n",
        "            \n",
        "        X_batch = f['data'][:]\n",
        "        y_batch = f['labels'][:]\n",
        "\n",
        "    for i in range(int(len(X_batch)/frames_num)):\n",
        "        inc = count+frames_num\n",
        "        joint_transfer.append([X_batch[count:inc],y_batch[count]])\n",
        "        count =inc\n",
        "        \n",
        "    data =[]\n",
        "    target=[]\n",
        "    \n",
        "    for i in joint_transfer:\n",
        "        data.append(i[0])\n",
        "        target.append(np.array(i[1]))\n",
        "        \n",
        "    return data, target"
      ],
      "execution_count": null,
      "outputs": []
    },
    {
      "cell_type": "code",
      "metadata": {
        "id": "EKO-7tVrMHqD"
      },
      "source": [
        "data, target = process_alldata_training()\n"
      ],
      "execution_count": null,
      "outputs": []
    },
    {
      "cell_type": "code",
      "metadata": {
        "id": "8dsw3ftQMKWL"
      },
      "source": [
        "data_test, target_test = process_alldata_test()\n"
      ],
      "execution_count": null,
      "outputs": []
    },
    {
      "cell_type": "code",
      "metadata": {
        "id": "obYo1Ub0hGVh"
      },
      "source": [
        ""
      ],
      "execution_count": null,
      "outputs": []
    },
    {
      "cell_type": "code",
      "metadata": {
        "id": "55XuPCJgMRbM"
      },
      "source": [
        "# Creating the LSTM model\n",
        "\n",
        "chunk_size = 4096\n",
        "n_chunks = 20\n",
        "rnn_size = 512\n",
        "\n",
        "model = Sequential()\n",
        "model.add(LSTM(rnn_size, input_shape=(n_chunks, chunk_size), return_sequences=False))\n",
        "model.add(Dense(1024))\n",
        "model.add(Activation('relu'))\n",
        "model.add(Dense(50))\n",
        "model.add(Activation('sigmoid'))\n",
        "model.add(Dense(2))\n",
        "model.add(Activation('softmax'))\n",
        "model.compile(loss='mean_squared_error', optimizer='adam',metrics=['accuracy'])"
      ],
      "execution_count": null,
      "outputs": []
    },
    {
      "cell_type": "code",
      "metadata": {
        "colab": {
          "base_uri": "https://localhost:8080/"
        },
        "id": "k0O2Gc4BwvJG",
        "outputId": "9b575ebf-d617-4afc-fb65-14f3d1fbd0ae"
      },
      "source": [
        "model.input_shape"
      ],
      "execution_count": null,
      "outputs": [
        {
          "output_type": "execute_result",
          "data": {
            "text/plain": [
              "(None, 20, 4096)"
            ]
          },
          "metadata": {
            "tags": []
          },
          "execution_count": 33
        }
      ]
    },
    {
      "cell_type": "code",
      "metadata": {
        "id": "Roc_gu6sMgE0",
        "colab": {
          "base_uri": "https://localhost:8080/"
        },
        "outputId": "2b2c79c9-588f-483f-b8b1-4022509553b8"
      },
      "source": [
        "model.summary()"
      ],
      "execution_count": null,
      "outputs": [
        {
          "output_type": "stream",
          "text": [
            "Model: \"sequential\"\n",
            "_________________________________________________________________\n",
            "Layer (type)                 Output Shape              Param #   \n",
            "=================================================================\n",
            "lstm (LSTM)                  (None, 512)               9439232   \n",
            "_________________________________________________________________\n",
            "dense (Dense)                (None, 1024)              525312    \n",
            "_________________________________________________________________\n",
            "activation (Activation)      (None, 1024)              0         \n",
            "_________________________________________________________________\n",
            "dense_1 (Dense)              (None, 50)                51250     \n",
            "_________________________________________________________________\n",
            "activation_1 (Activation)    (None, 50)                0         \n",
            "_________________________________________________________________\n",
            "dense_2 (Dense)              (None, 2)                 102       \n",
            "_________________________________________________________________\n",
            "activation_2 (Activation)    (None, 2)                 0         \n",
            "=================================================================\n",
            "Total params: 10,015,896\n",
            "Trainable params: 10,015,896\n",
            "Non-trainable params: 0\n",
            "_________________________________________________________________\n"
          ],
          "name": "stdout"
        }
      ]
    },
    {
      "cell_type": "code",
      "metadata": {
        "colab": {
          "base_uri": "https://localhost:8080/"
        },
        "id": "V6onMIXUMuuR",
        "outputId": "7973d69c-b5a3-441a-ac47-86dcd8e87d29"
      },
      "source": [
        "epoch = 200\n",
        "batchS = 512\n",
        "\n",
        "history = model.fit(np.array(data[0:750]), np.array(target[0:750]), epochs=epoch,\n",
        "                    validation_data=(np.array(data[750:]), np.array(target[750:])), \n",
        "                    batch_size=batchS, verbose=2)"
      ],
      "execution_count": null,
      "outputs": [
        {
          "output_type": "stream",
          "text": [
            "Epoch 1/200\n",
            "2/2 - 1s - loss: 0.3340 - accuracy: 0.4920 - val_loss: 0.3288 - val_accuracy: 0.4828\n",
            "Epoch 2/200\n",
            "2/2 - 0s - loss: 0.2937 - accuracy: 0.5213 - val_loss: 0.2586 - val_accuracy: 0.5172\n",
            "Epoch 3/200\n",
            "2/2 - 0s - loss: 0.2636 - accuracy: 0.4813 - val_loss: 0.2498 - val_accuracy: 0.4828\n",
            "Epoch 4/200\n",
            "2/2 - 0s - loss: 0.2493 - accuracy: 0.5187 - val_loss: 0.2611 - val_accuracy: 0.4828\n",
            "Epoch 5/200\n",
            "2/2 - 0s - loss: 0.2533 - accuracy: 0.5187 - val_loss: 0.2508 - val_accuracy: 0.4828\n",
            "Epoch 6/200\n",
            "2/2 - 0s - loss: 0.2479 - accuracy: 0.5240 - val_loss: 0.2485 - val_accuracy: 0.5172\n",
            "Epoch 7/200\n",
            "2/2 - 0s - loss: 0.2517 - accuracy: 0.4813 - val_loss: 0.2475 - val_accuracy: 0.5172\n",
            "Epoch 8/200\n",
            "2/2 - 0s - loss: 0.2494 - accuracy: 0.5760 - val_loss: 0.2478 - val_accuracy: 0.4828\n",
            "Epoch 9/200\n",
            "2/2 - 0s - loss: 0.2466 - accuracy: 0.5187 - val_loss: 0.2491 - val_accuracy: 0.4828\n",
            "Epoch 10/200\n",
            "2/2 - 0s - loss: 0.2450 - accuracy: 0.5187 - val_loss: 0.2432 - val_accuracy: 0.5000\n",
            "Epoch 11/200\n",
            "2/2 - 0s - loss: 0.2418 - accuracy: 0.6320 - val_loss: 0.2385 - val_accuracy: 0.6172\n",
            "Epoch 12/200\n",
            "2/2 - 0s - loss: 0.2393 - accuracy: 0.6373 - val_loss: 0.2329 - val_accuracy: 0.8241\n",
            "Epoch 13/200\n",
            "2/2 - 0s - loss: 0.2319 - accuracy: 0.7920 - val_loss: 0.2242 - val_accuracy: 0.7793\n",
            "Epoch 14/200\n",
            "2/2 - 0s - loss: 0.2219 - accuracy: 0.7973 - val_loss: 0.2075 - val_accuracy: 0.8414\n",
            "Epoch 15/200\n",
            "2/2 - 0s - loss: 0.2068 - accuracy: 0.8293 - val_loss: 0.1867 - val_accuracy: 0.8345\n",
            "Epoch 16/200\n",
            "2/2 - 0s - loss: 0.1862 - accuracy: 0.8200 - val_loss: 0.1800 - val_accuracy: 0.7724\n",
            "Epoch 17/200\n",
            "2/2 - 0s - loss: 0.1720 - accuracy: 0.7960 - val_loss: 0.1631 - val_accuracy: 0.8034\n",
            "Epoch 18/200\n",
            "2/2 - 0s - loss: 0.1584 - accuracy: 0.7987 - val_loss: 0.1594 - val_accuracy: 0.7828\n",
            "Epoch 19/200\n",
            "2/2 - 0s - loss: 0.1563 - accuracy: 0.7853 - val_loss: 0.1378 - val_accuracy: 0.8276\n",
            "Epoch 20/200\n",
            "2/2 - 0s - loss: 0.1386 - accuracy: 0.8027 - val_loss: 0.1335 - val_accuracy: 0.8069\n",
            "Epoch 21/200\n",
            "2/2 - 0s - loss: 0.1322 - accuracy: 0.8160 - val_loss: 0.1319 - val_accuracy: 0.8276\n",
            "Epoch 22/200\n",
            "2/2 - 0s - loss: 0.1290 - accuracy: 0.8280 - val_loss: 0.1320 - val_accuracy: 0.8241\n",
            "Epoch 23/200\n",
            "2/2 - 0s - loss: 0.1319 - accuracy: 0.8187 - val_loss: 0.1277 - val_accuracy: 0.8276\n",
            "Epoch 24/200\n",
            "2/2 - 0s - loss: 0.1297 - accuracy: 0.8253 - val_loss: 0.1194 - val_accuracy: 0.8276\n",
            "Epoch 25/200\n",
            "2/2 - 0s - loss: 0.1274 - accuracy: 0.8320 - val_loss: 0.1191 - val_accuracy: 0.8241\n",
            "Epoch 26/200\n",
            "2/2 - 0s - loss: 0.1197 - accuracy: 0.8387 - val_loss: 0.1302 - val_accuracy: 0.8172\n",
            "Epoch 27/200\n",
            "2/2 - 0s - loss: 0.1229 - accuracy: 0.8413 - val_loss: 0.1233 - val_accuracy: 0.8345\n",
            "Epoch 28/200\n",
            "2/2 - 0s - loss: 0.1213 - accuracy: 0.8360 - val_loss: 0.1205 - val_accuracy: 0.8379\n",
            "Epoch 29/200\n",
            "2/2 - 0s - loss: 0.1183 - accuracy: 0.8387 - val_loss: 0.1173 - val_accuracy: 0.8517\n",
            "Epoch 30/200\n",
            "2/2 - 0s - loss: 0.1137 - accuracy: 0.8387 - val_loss: 0.1206 - val_accuracy: 0.8414\n",
            "Epoch 31/200\n",
            "2/2 - 0s - loss: 0.1137 - accuracy: 0.8480 - val_loss: 0.1303 - val_accuracy: 0.8241\n",
            "Epoch 32/200\n",
            "2/2 - 0s - loss: 0.1192 - accuracy: 0.8387 - val_loss: 0.1146 - val_accuracy: 0.8379\n",
            "Epoch 33/200\n",
            "2/2 - 0s - loss: 0.1105 - accuracy: 0.8547 - val_loss: 0.1156 - val_accuracy: 0.8379\n",
            "Epoch 34/200\n",
            "2/2 - 0s - loss: 0.1094 - accuracy: 0.8573 - val_loss: 0.1245 - val_accuracy: 0.8345\n",
            "Epoch 35/200\n",
            "2/2 - 0s - loss: 0.1129 - accuracy: 0.8400 - val_loss: 0.1140 - val_accuracy: 0.8414\n",
            "Epoch 36/200\n",
            "2/2 - 0s - loss: 0.1052 - accuracy: 0.8667 - val_loss: 0.1139 - val_accuracy: 0.8483\n",
            "Epoch 37/200\n",
            "2/2 - 0s - loss: 0.1036 - accuracy: 0.8693 - val_loss: 0.1139 - val_accuracy: 0.8483\n",
            "Epoch 38/200\n",
            "2/2 - 0s - loss: 0.1029 - accuracy: 0.8720 - val_loss: 0.1136 - val_accuracy: 0.8517\n",
            "Epoch 39/200\n",
            "2/2 - 0s - loss: 0.1017 - accuracy: 0.8773 - val_loss: 0.1137 - val_accuracy: 0.8448\n",
            "Epoch 40/200\n",
            "2/2 - 0s - loss: 0.1014 - accuracy: 0.8680 - val_loss: 0.1135 - val_accuracy: 0.8448\n",
            "Epoch 41/200\n",
            "2/2 - 0s - loss: 0.0997 - accuracy: 0.8747 - val_loss: 0.1188 - val_accuracy: 0.8172\n",
            "Epoch 42/200\n",
            "2/2 - 0s - loss: 0.1013 - accuracy: 0.8667 - val_loss: 0.1136 - val_accuracy: 0.8414\n",
            "Epoch 43/200\n",
            "2/2 - 0s - loss: 0.1003 - accuracy: 0.8680 - val_loss: 0.1154 - val_accuracy: 0.8310\n",
            "Epoch 44/200\n",
            "2/2 - 0s - loss: 0.0986 - accuracy: 0.8720 - val_loss: 0.1135 - val_accuracy: 0.8414\n",
            "Epoch 45/200\n",
            "2/2 - 0s - loss: 0.0981 - accuracy: 0.8707 - val_loss: 0.1134 - val_accuracy: 0.8414\n",
            "Epoch 46/200\n",
            "2/2 - 0s - loss: 0.0973 - accuracy: 0.8720 - val_loss: 0.1131 - val_accuracy: 0.8414\n",
            "Epoch 47/200\n",
            "2/2 - 0s - loss: 0.0957 - accuracy: 0.8773 - val_loss: 0.1136 - val_accuracy: 0.8310\n",
            "Epoch 48/200\n",
            "2/2 - 0s - loss: 0.0945 - accuracy: 0.8733 - val_loss: 0.1180 - val_accuracy: 0.8241\n",
            "Epoch 49/200\n",
            "2/2 - 0s - loss: 0.0941 - accuracy: 0.8880 - val_loss: 0.1185 - val_accuracy: 0.8345\n",
            "Epoch 50/200\n",
            "2/2 - 0s - loss: 0.0985 - accuracy: 0.8667 - val_loss: 0.1168 - val_accuracy: 0.8345\n",
            "Epoch 51/200\n",
            "2/2 - 0s - loss: 0.0935 - accuracy: 0.8853 - val_loss: 0.1192 - val_accuracy: 0.8345\n",
            "Epoch 52/200\n",
            "2/2 - 0s - loss: 0.0988 - accuracy: 0.8653 - val_loss: 0.1215 - val_accuracy: 0.8172\n",
            "Epoch 53/200\n",
            "2/2 - 0s - loss: 0.0974 - accuracy: 0.8720 - val_loss: 0.1184 - val_accuracy: 0.8310\n",
            "Epoch 54/200\n",
            "2/2 - 0s - loss: 0.0990 - accuracy: 0.8680 - val_loss: 0.1141 - val_accuracy: 0.8345\n",
            "Epoch 55/200\n",
            "2/2 - 0s - loss: 0.0922 - accuracy: 0.8840 - val_loss: 0.1131 - val_accuracy: 0.8414\n",
            "Epoch 56/200\n",
            "2/2 - 0s - loss: 0.0892 - accuracy: 0.8840 - val_loss: 0.1141 - val_accuracy: 0.8345\n",
            "Epoch 57/200\n",
            "2/2 - 0s - loss: 0.0881 - accuracy: 0.8800 - val_loss: 0.1268 - val_accuracy: 0.8103\n",
            "Epoch 58/200\n",
            "2/2 - 0s - loss: 0.0964 - accuracy: 0.8747 - val_loss: 0.1168 - val_accuracy: 0.8310\n",
            "Epoch 59/200\n",
            "2/2 - 0s - loss: 0.0922 - accuracy: 0.8827 - val_loss: 0.1160 - val_accuracy: 0.8241\n",
            "Epoch 60/200\n",
            "2/2 - 0s - loss: 0.0875 - accuracy: 0.8893 - val_loss: 0.1126 - val_accuracy: 0.8345\n",
            "Epoch 61/200\n",
            "2/2 - 0s - loss: 0.0864 - accuracy: 0.8813 - val_loss: 0.1142 - val_accuracy: 0.8276\n",
            "Epoch 62/200\n",
            "2/2 - 0s - loss: 0.0851 - accuracy: 0.8920 - val_loss: 0.1123 - val_accuracy: 0.8345\n",
            "Epoch 63/200\n",
            "2/2 - 0s - loss: 0.0838 - accuracy: 0.8920 - val_loss: 0.1127 - val_accuracy: 0.8207\n",
            "Epoch 64/200\n",
            "2/2 - 0s - loss: 0.0828 - accuracy: 0.8947 - val_loss: 0.1121 - val_accuracy: 0.8379\n",
            "Epoch 65/200\n",
            "2/2 - 0s - loss: 0.0831 - accuracy: 0.8947 - val_loss: 0.1148 - val_accuracy: 0.8379\n",
            "Epoch 66/200\n",
            "2/2 - 0s - loss: 0.0840 - accuracy: 0.8960 - val_loss: 0.1217 - val_accuracy: 0.8276\n",
            "Epoch 67/200\n",
            "2/2 - 0s - loss: 0.0847 - accuracy: 0.8920 - val_loss: 0.1391 - val_accuracy: 0.8069\n",
            "Epoch 68/200\n",
            "2/2 - 0s - loss: 0.0998 - accuracy: 0.8733 - val_loss: 0.1329 - val_accuracy: 0.8069\n",
            "Epoch 69/200\n",
            "2/2 - 0s - loss: 0.0946 - accuracy: 0.8760 - val_loss: 0.1245 - val_accuracy: 0.8379\n",
            "Epoch 70/200\n",
            "2/2 - 0s - loss: 0.0947 - accuracy: 0.8720 - val_loss: 0.1149 - val_accuracy: 0.8207\n",
            "Epoch 71/200\n",
            "2/2 - 0s - loss: 0.0796 - accuracy: 0.9067 - val_loss: 0.1146 - val_accuracy: 0.8483\n",
            "Epoch 72/200\n",
            "2/2 - 0s - loss: 0.0786 - accuracy: 0.9067 - val_loss: 0.1228 - val_accuracy: 0.8241\n",
            "Epoch 73/200\n",
            "2/2 - 0s - loss: 0.0905 - accuracy: 0.8827 - val_loss: 0.1150 - val_accuracy: 0.8414\n",
            "Epoch 74/200\n",
            "2/2 - 0s - loss: 0.0806 - accuracy: 0.9027 - val_loss: 0.1144 - val_accuracy: 0.8276\n",
            "Epoch 75/200\n",
            "2/2 - 0s - loss: 0.0789 - accuracy: 0.8973 - val_loss: 0.1126 - val_accuracy: 0.8379\n",
            "Epoch 76/200\n",
            "2/2 - 0s - loss: 0.0796 - accuracy: 0.9067 - val_loss: 0.1128 - val_accuracy: 0.8379\n",
            "Epoch 77/200\n",
            "2/2 - 0s - loss: 0.0799 - accuracy: 0.9013 - val_loss: 0.1153 - val_accuracy: 0.8310\n",
            "Epoch 78/200\n",
            "2/2 - 0s - loss: 0.0823 - accuracy: 0.8933 - val_loss: 0.1336 - val_accuracy: 0.8172\n",
            "Epoch 79/200\n",
            "2/2 - 0s - loss: 0.0948 - accuracy: 0.8747 - val_loss: 0.1264 - val_accuracy: 0.8172\n",
            "Epoch 80/200\n",
            "2/2 - 0s - loss: 0.0899 - accuracy: 0.8813 - val_loss: 0.1271 - val_accuracy: 0.8138\n",
            "Epoch 81/200\n",
            "2/2 - 0s - loss: 0.0886 - accuracy: 0.8827 - val_loss: 0.1176 - val_accuracy: 0.8276\n",
            "Epoch 82/200\n",
            "2/2 - 0s - loss: 0.0812 - accuracy: 0.8933 - val_loss: 0.1178 - val_accuracy: 0.8414\n",
            "Epoch 83/200\n",
            "2/2 - 0s - loss: 0.0830 - accuracy: 0.8920 - val_loss: 0.1158 - val_accuracy: 0.8276\n",
            "Epoch 84/200\n",
            "2/2 - 0s - loss: 0.0793 - accuracy: 0.8960 - val_loss: 0.1163 - val_accuracy: 0.8448\n",
            "Epoch 85/200\n",
            "2/2 - 0s - loss: 0.0806 - accuracy: 0.8960 - val_loss: 0.1125 - val_accuracy: 0.8310\n",
            "Epoch 86/200\n",
            "2/2 - 0s - loss: 0.0743 - accuracy: 0.9067 - val_loss: 0.1127 - val_accuracy: 0.8276\n",
            "Epoch 87/200\n",
            "2/2 - 0s - loss: 0.0746 - accuracy: 0.9080 - val_loss: 0.1137 - val_accuracy: 0.8448\n",
            "Epoch 88/200\n",
            "2/2 - 0s - loss: 0.0733 - accuracy: 0.9160 - val_loss: 0.1174 - val_accuracy: 0.8241\n",
            "Epoch 89/200\n",
            "2/2 - 0s - loss: 0.0746 - accuracy: 0.9120 - val_loss: 0.1128 - val_accuracy: 0.8414\n",
            "Epoch 90/200\n",
            "2/2 - 0s - loss: 0.0723 - accuracy: 0.9187 - val_loss: 0.1133 - val_accuracy: 0.8345\n",
            "Epoch 91/200\n",
            "2/2 - 0s - loss: 0.0716 - accuracy: 0.9173 - val_loss: 0.1135 - val_accuracy: 0.8345\n",
            "Epoch 92/200\n",
            "2/2 - 0s - loss: 0.0704 - accuracy: 0.9187 - val_loss: 0.1134 - val_accuracy: 0.8345\n",
            "Epoch 93/200\n",
            "2/2 - 0s - loss: 0.0740 - accuracy: 0.9107 - val_loss: 0.1216 - val_accuracy: 0.8207\n",
            "Epoch 94/200\n",
            "2/2 - 0s - loss: 0.0754 - accuracy: 0.9013 - val_loss: 0.1210 - val_accuracy: 0.8345\n",
            "Epoch 95/200\n",
            "2/2 - 0s - loss: 0.0761 - accuracy: 0.9080 - val_loss: 0.1155 - val_accuracy: 0.8345\n",
            "Epoch 96/200\n",
            "2/2 - 0s - loss: 0.0710 - accuracy: 0.9187 - val_loss: 0.1139 - val_accuracy: 0.8379\n",
            "Epoch 97/200\n",
            "2/2 - 0s - loss: 0.0678 - accuracy: 0.9213 - val_loss: 0.1144 - val_accuracy: 0.8379\n",
            "Epoch 98/200\n",
            "2/2 - 0s - loss: 0.0674 - accuracy: 0.9227 - val_loss: 0.1178 - val_accuracy: 0.8379\n",
            "Epoch 99/200\n",
            "2/2 - 0s - loss: 0.0696 - accuracy: 0.9200 - val_loss: 0.1204 - val_accuracy: 0.8172\n",
            "Epoch 100/200\n",
            "2/2 - 0s - loss: 0.0750 - accuracy: 0.9013 - val_loss: 0.1191 - val_accuracy: 0.8345\n",
            "Epoch 101/200\n",
            "2/2 - 0s - loss: 0.0773 - accuracy: 0.9013 - val_loss: 0.1138 - val_accuracy: 0.8448\n",
            "Epoch 102/200\n",
            "2/2 - 0s - loss: 0.0667 - accuracy: 0.9227 - val_loss: 0.1136 - val_accuracy: 0.8448\n",
            "Epoch 103/200\n",
            "2/2 - 0s - loss: 0.0646 - accuracy: 0.9200 - val_loss: 0.1213 - val_accuracy: 0.8310\n",
            "Epoch 104/200\n",
            "2/2 - 0s - loss: 0.0795 - accuracy: 0.8987 - val_loss: 0.1132 - val_accuracy: 0.8379\n",
            "Epoch 105/200\n",
            "2/2 - 0s - loss: 0.0726 - accuracy: 0.9013 - val_loss: 0.1322 - val_accuracy: 0.8172\n",
            "Epoch 106/200\n",
            "2/2 - 0s - loss: 0.0838 - accuracy: 0.8840 - val_loss: 0.1465 - val_accuracy: 0.8069\n",
            "Epoch 107/200\n",
            "2/2 - 0s - loss: 0.0958 - accuracy: 0.8707 - val_loss: 0.1479 - val_accuracy: 0.8069\n",
            "Epoch 108/200\n",
            "2/2 - 0s - loss: 0.0937 - accuracy: 0.8720 - val_loss: 0.1625 - val_accuracy: 0.7759\n",
            "Epoch 109/200\n",
            "2/2 - 0s - loss: 0.1079 - accuracy: 0.8453 - val_loss: 0.1314 - val_accuracy: 0.8379\n",
            "Epoch 110/200\n",
            "2/2 - 0s - loss: 0.0873 - accuracy: 0.8867 - val_loss: 0.1130 - val_accuracy: 0.8414\n",
            "Epoch 111/200\n",
            "2/2 - 0s - loss: 0.0687 - accuracy: 0.9147 - val_loss: 0.1121 - val_accuracy: 0.8414\n",
            "Epoch 112/200\n",
            "2/2 - 0s - loss: 0.0676 - accuracy: 0.9160 - val_loss: 0.1110 - val_accuracy: 0.8448\n",
            "Epoch 113/200\n",
            "2/2 - 0s - loss: 0.0642 - accuracy: 0.9293 - val_loss: 0.1178 - val_accuracy: 0.8345\n",
            "Epoch 114/200\n",
            "2/2 - 0s - loss: 0.0687 - accuracy: 0.9133 - val_loss: 0.1162 - val_accuracy: 0.8345\n",
            "Epoch 115/200\n",
            "2/2 - 0s - loss: 0.0666 - accuracy: 0.9160 - val_loss: 0.1151 - val_accuracy: 0.8414\n",
            "Epoch 116/200\n",
            "2/2 - 0s - loss: 0.0677 - accuracy: 0.9187 - val_loss: 0.1241 - val_accuracy: 0.8414\n",
            "Epoch 117/200\n",
            "2/2 - 0s - loss: 0.0738 - accuracy: 0.9027 - val_loss: 0.1161 - val_accuracy: 0.8379\n",
            "Epoch 118/200\n",
            "2/2 - 0s - loss: 0.0683 - accuracy: 0.9187 - val_loss: 0.1140 - val_accuracy: 0.8414\n",
            "Epoch 119/200\n",
            "2/2 - 0s - loss: 0.0648 - accuracy: 0.9213 - val_loss: 0.1135 - val_accuracy: 0.8379\n",
            "Epoch 120/200\n",
            "2/2 - 0s - loss: 0.0681 - accuracy: 0.9107 - val_loss: 0.1139 - val_accuracy: 0.8448\n",
            "Epoch 121/200\n",
            "2/2 - 0s - loss: 0.0641 - accuracy: 0.9240 - val_loss: 0.1123 - val_accuracy: 0.8483\n",
            "Epoch 122/200\n",
            "2/2 - 0s - loss: 0.0600 - accuracy: 0.9320 - val_loss: 0.1172 - val_accuracy: 0.8276\n",
            "Epoch 123/200\n",
            "2/2 - 0s - loss: 0.0641 - accuracy: 0.9213 - val_loss: 0.1212 - val_accuracy: 0.8414\n",
            "Epoch 124/200\n",
            "2/2 - 0s - loss: 0.0652 - accuracy: 0.9200 - val_loss: 0.1210 - val_accuracy: 0.8172\n",
            "Epoch 125/200\n",
            "2/2 - 0s - loss: 0.0666 - accuracy: 0.9187 - val_loss: 0.1237 - val_accuracy: 0.8379\n",
            "Epoch 126/200\n",
            "2/2 - 0s - loss: 0.0666 - accuracy: 0.9160 - val_loss: 0.1222 - val_accuracy: 0.8207\n",
            "Epoch 127/200\n",
            "2/2 - 0s - loss: 0.0644 - accuracy: 0.9307 - val_loss: 0.1281 - val_accuracy: 0.8345\n",
            "Epoch 128/200\n",
            "2/2 - 0s - loss: 0.0709 - accuracy: 0.9107 - val_loss: 0.1159 - val_accuracy: 0.8414\n",
            "Epoch 129/200\n",
            "2/2 - 0s - loss: 0.0602 - accuracy: 0.9307 - val_loss: 0.1204 - val_accuracy: 0.8379\n",
            "Epoch 130/200\n",
            "2/2 - 0s - loss: 0.0628 - accuracy: 0.9240 - val_loss: 0.1165 - val_accuracy: 0.8379\n",
            "Epoch 131/200\n",
            "2/2 - 0s - loss: 0.0598 - accuracy: 0.9333 - val_loss: 0.1200 - val_accuracy: 0.8379\n",
            "Epoch 132/200\n",
            "2/2 - 0s - loss: 0.0625 - accuracy: 0.9240 - val_loss: 0.1135 - val_accuracy: 0.8552\n",
            "Epoch 133/200\n",
            "2/2 - 0s - loss: 0.0589 - accuracy: 0.9347 - val_loss: 0.1140 - val_accuracy: 0.8414\n",
            "Epoch 134/200\n",
            "2/2 - 0s - loss: 0.0553 - accuracy: 0.9360 - val_loss: 0.1135 - val_accuracy: 0.8517\n",
            "Epoch 135/200\n",
            "2/2 - 0s - loss: 0.0578 - accuracy: 0.9307 - val_loss: 0.1128 - val_accuracy: 0.8483\n",
            "Epoch 136/200\n",
            "2/2 - 0s - loss: 0.0543 - accuracy: 0.9400 - val_loss: 0.1139 - val_accuracy: 0.8483\n",
            "Epoch 137/200\n",
            "2/2 - 0s - loss: 0.0538 - accuracy: 0.9413 - val_loss: 0.1204 - val_accuracy: 0.8414\n",
            "Epoch 138/200\n",
            "2/2 - 0s - loss: 0.0588 - accuracy: 0.9280 - val_loss: 0.1132 - val_accuracy: 0.8483\n",
            "Epoch 139/200\n",
            "2/2 - 0s - loss: 0.0523 - accuracy: 0.9440 - val_loss: 0.1143 - val_accuracy: 0.8414\n",
            "Epoch 140/200\n",
            "2/2 - 0s - loss: 0.0510 - accuracy: 0.9440 - val_loss: 0.1211 - val_accuracy: 0.8379\n",
            "Epoch 141/200\n",
            "2/2 - 0s - loss: 0.0589 - accuracy: 0.9240 - val_loss: 0.1147 - val_accuracy: 0.8448\n",
            "Epoch 142/200\n",
            "2/2 - 0s - loss: 0.0561 - accuracy: 0.9373 - val_loss: 0.1265 - val_accuracy: 0.8414\n",
            "Epoch 143/200\n",
            "2/2 - 0s - loss: 0.0565 - accuracy: 0.9280 - val_loss: 0.1341 - val_accuracy: 0.8172\n",
            "Epoch 144/200\n",
            "2/2 - 0s - loss: 0.0699 - accuracy: 0.9067 - val_loss: 0.1348 - val_accuracy: 0.8310\n",
            "Epoch 145/200\n",
            "2/2 - 0s - loss: 0.0752 - accuracy: 0.8960 - val_loss: 0.1126 - val_accuracy: 0.8517\n",
            "Epoch 146/200\n",
            "2/2 - 0s - loss: 0.0696 - accuracy: 0.9053 - val_loss: 0.1180 - val_accuracy: 0.8448\n",
            "Epoch 147/200\n",
            "2/2 - 0s - loss: 0.0699 - accuracy: 0.9120 - val_loss: 0.1334 - val_accuracy: 0.8379\n",
            "Epoch 148/200\n",
            "2/2 - 0s - loss: 0.0786 - accuracy: 0.8947 - val_loss: 0.1468 - val_accuracy: 0.8000\n",
            "Epoch 149/200\n",
            "2/2 - 0s - loss: 0.0796 - accuracy: 0.8960 - val_loss: 0.1418 - val_accuracy: 0.8241\n",
            "Epoch 150/200\n",
            "2/2 - 0s - loss: 0.0732 - accuracy: 0.9027 - val_loss: 0.1344 - val_accuracy: 0.8138\n",
            "Epoch 151/200\n",
            "2/2 - 0s - loss: 0.0730 - accuracy: 0.9107 - val_loss: 0.1239 - val_accuracy: 0.8379\n",
            "Epoch 152/200\n",
            "2/2 - 0s - loss: 0.0606 - accuracy: 0.9240 - val_loss: 0.1143 - val_accuracy: 0.8552\n",
            "Epoch 153/200\n",
            "2/2 - 0s - loss: 0.0635 - accuracy: 0.9240 - val_loss: 0.1242 - val_accuracy: 0.8379\n",
            "Epoch 154/200\n",
            "2/2 - 0s - loss: 0.0657 - accuracy: 0.9213 - val_loss: 0.1107 - val_accuracy: 0.8448\n",
            "Epoch 155/200\n",
            "2/2 - 0s - loss: 0.0594 - accuracy: 0.9240 - val_loss: 0.1105 - val_accuracy: 0.8414\n",
            "Epoch 156/200\n",
            "2/2 - 0s - loss: 0.0602 - accuracy: 0.9267 - val_loss: 0.1108 - val_accuracy: 0.8448\n",
            "Epoch 157/200\n",
            "2/2 - 0s - loss: 0.0613 - accuracy: 0.9280 - val_loss: 0.1150 - val_accuracy: 0.8483\n",
            "Epoch 158/200\n",
            "2/2 - 0s - loss: 0.0631 - accuracy: 0.9200 - val_loss: 0.1120 - val_accuracy: 0.8345\n",
            "Epoch 159/200\n",
            "2/2 - 0s - loss: 0.0626 - accuracy: 0.9213 - val_loss: 0.1129 - val_accuracy: 0.8414\n",
            "Epoch 160/200\n",
            "2/2 - 0s - loss: 0.0593 - accuracy: 0.9253 - val_loss: 0.1236 - val_accuracy: 0.8379\n",
            "Epoch 161/200\n",
            "2/2 - 0s - loss: 0.0566 - accuracy: 0.9293 - val_loss: 0.1279 - val_accuracy: 0.8172\n",
            "Epoch 162/200\n",
            "2/2 - 0s - loss: 0.0657 - accuracy: 0.9200 - val_loss: 0.1304 - val_accuracy: 0.8379\n",
            "Epoch 163/200\n",
            "2/2 - 0s - loss: 0.0622 - accuracy: 0.9147 - val_loss: 0.1276 - val_accuracy: 0.8276\n",
            "Epoch 164/200\n",
            "2/2 - 0s - loss: 0.0630 - accuracy: 0.9280 - val_loss: 0.1182 - val_accuracy: 0.8483\n",
            "Epoch 165/200\n",
            "2/2 - 0s - loss: 0.0585 - accuracy: 0.9280 - val_loss: 0.1202 - val_accuracy: 0.8483\n",
            "Epoch 166/200\n",
            "2/2 - 0s - loss: 0.0607 - accuracy: 0.9240 - val_loss: 0.1121 - val_accuracy: 0.8345\n",
            "Epoch 167/200\n",
            "2/2 - 0s - loss: 0.0564 - accuracy: 0.9320 - val_loss: 0.1117 - val_accuracy: 0.8345\n",
            "Epoch 168/200\n",
            "2/2 - 0s - loss: 0.0524 - accuracy: 0.9387 - val_loss: 0.1139 - val_accuracy: 0.8552\n",
            "Epoch 169/200\n",
            "2/2 - 0s - loss: 0.0560 - accuracy: 0.9333 - val_loss: 0.1228 - val_accuracy: 0.8483\n",
            "Epoch 170/200\n",
            "2/2 - 0s - loss: 0.0552 - accuracy: 0.9320 - val_loss: 0.1189 - val_accuracy: 0.8517\n",
            "Epoch 171/200\n",
            "2/2 - 0s - loss: 0.0538 - accuracy: 0.9400 - val_loss: 0.1166 - val_accuracy: 0.8483\n",
            "Epoch 172/200\n",
            "2/2 - 0s - loss: 0.0479 - accuracy: 0.9520 - val_loss: 0.1131 - val_accuracy: 0.8345\n",
            "Epoch 173/200\n",
            "2/2 - 0s - loss: 0.0460 - accuracy: 0.9413 - val_loss: 0.1140 - val_accuracy: 0.8310\n",
            "Epoch 174/200\n",
            "2/2 - 0s - loss: 0.0453 - accuracy: 0.9520 - val_loss: 0.1156 - val_accuracy: 0.8379\n",
            "Epoch 175/200\n",
            "2/2 - 0s - loss: 0.0460 - accuracy: 0.9493 - val_loss: 0.1136 - val_accuracy: 0.8345\n",
            "Epoch 176/200\n",
            "2/2 - 0s - loss: 0.0444 - accuracy: 0.9507 - val_loss: 0.1131 - val_accuracy: 0.8345\n",
            "Epoch 177/200\n",
            "2/2 - 0s - loss: 0.0443 - accuracy: 0.9520 - val_loss: 0.1144 - val_accuracy: 0.8552\n",
            "Epoch 178/200\n",
            "2/2 - 0s - loss: 0.0466 - accuracy: 0.9507 - val_loss: 0.1280 - val_accuracy: 0.8241\n",
            "Epoch 179/200\n",
            "2/2 - 0s - loss: 0.0584 - accuracy: 0.9240 - val_loss: 0.1267 - val_accuracy: 0.8414\n",
            "Epoch 180/200\n",
            "2/2 - 0s - loss: 0.0522 - accuracy: 0.9307 - val_loss: 0.1134 - val_accuracy: 0.8483\n",
            "Epoch 181/200\n",
            "2/2 - 0s - loss: 0.0455 - accuracy: 0.9480 - val_loss: 0.1171 - val_accuracy: 0.8552\n",
            "Epoch 182/200\n",
            "2/2 - 0s - loss: 0.0439 - accuracy: 0.9507 - val_loss: 0.1153 - val_accuracy: 0.8483\n",
            "Epoch 183/200\n",
            "2/2 - 0s - loss: 0.0454 - accuracy: 0.9533 - val_loss: 0.1179 - val_accuracy: 0.8483\n",
            "Epoch 184/200\n",
            "2/2 - 0s - loss: 0.0431 - accuracy: 0.9507 - val_loss: 0.1171 - val_accuracy: 0.8448\n",
            "Epoch 185/200\n",
            "2/2 - 0s - loss: 0.0424 - accuracy: 0.9493 - val_loss: 0.1185 - val_accuracy: 0.8552\n",
            "Epoch 186/200\n",
            "2/2 - 0s - loss: 0.0450 - accuracy: 0.9493 - val_loss: 0.1161 - val_accuracy: 0.8414\n",
            "Epoch 187/200\n",
            "2/2 - 0s - loss: 0.0432 - accuracy: 0.9493 - val_loss: 0.1151 - val_accuracy: 0.8483\n",
            "Epoch 188/200\n",
            "2/2 - 0s - loss: 0.0434 - accuracy: 0.9520 - val_loss: 0.1169 - val_accuracy: 0.8483\n",
            "Epoch 189/200\n",
            "2/2 - 0s - loss: 0.0416 - accuracy: 0.9520 - val_loss: 0.1154 - val_accuracy: 0.8414\n",
            "Epoch 190/200\n",
            "2/2 - 0s - loss: 0.0411 - accuracy: 0.9520 - val_loss: 0.1153 - val_accuracy: 0.8552\n",
            "Epoch 191/200\n",
            "2/2 - 0s - loss: 0.0396 - accuracy: 0.9573 - val_loss: 0.1146 - val_accuracy: 0.8345\n",
            "Epoch 192/200\n",
            "2/2 - 0s - loss: 0.0391 - accuracy: 0.9573 - val_loss: 0.1271 - val_accuracy: 0.8483\n",
            "Epoch 193/200\n",
            "2/2 - 0s - loss: 0.0462 - accuracy: 0.9467 - val_loss: 0.1203 - val_accuracy: 0.8414\n",
            "Epoch 194/200\n",
            "2/2 - 0s - loss: 0.0436 - accuracy: 0.9507 - val_loss: 0.1167 - val_accuracy: 0.8552\n",
            "Epoch 195/200\n",
            "2/2 - 0s - loss: 0.0413 - accuracy: 0.9547 - val_loss: 0.1141 - val_accuracy: 0.8448\n",
            "Epoch 196/200\n",
            "2/2 - 0s - loss: 0.0395 - accuracy: 0.9560 - val_loss: 0.1144 - val_accuracy: 0.8448\n",
            "Epoch 197/200\n",
            "2/2 - 0s - loss: 0.0418 - accuracy: 0.9533 - val_loss: 0.1345 - val_accuracy: 0.8414\n",
            "Epoch 198/200\n",
            "2/2 - 0s - loss: 0.0477 - accuracy: 0.9440 - val_loss: 0.1468 - val_accuracy: 0.8103\n",
            "Epoch 199/200\n",
            "2/2 - 0s - loss: 0.0684 - accuracy: 0.9053 - val_loss: 0.1182 - val_accuracy: 0.8517\n",
            "Epoch 200/200\n",
            "2/2 - 0s - loss: 0.0393 - accuracy: 0.9560 - val_loss: 0.1215 - val_accuracy: 0.8483\n"
          ],
          "name": "stdout"
        }
      ]
    },
    {
      "cell_type": "code",
      "metadata": {
        "id": "iZdlFnx_M9Sh"
      },
      "source": [
        ""
      ],
      "execution_count": null,
      "outputs": []
    },
    {
      "cell_type": "code",
      "metadata": {
        "colab": {
          "base_uri": "https://localhost:8080/"
        },
        "id": "3YPMtfoPNMBU",
        "outputId": "837a0487-cfcc-43dc-a7ac-563ee01a8c57"
      },
      "source": [
        "result = model.evaluate(np.array(data_test), np.array(target_test))\n"
      ],
      "execution_count": null,
      "outputs": [
        {
          "output_type": "stream",
          "text": [
            "9/9 [==============================] - 0s 15ms/step - loss: 0.1383 - accuracy: 0.8346\n"
          ],
          "name": "stdout"
        }
      ]
    },
    {
      "cell_type": "code",
      "metadata": {
        "colab": {
          "base_uri": "https://localhost:8080/"
        },
        "id": "mUFYeOfbNR16",
        "outputId": "dd09f096-557f-4972-bce4-6bf51adbd8ad"
      },
      "source": [
        "for name, value in zip(model.metrics_names, result):\n",
        "    print(name, value)"
      ],
      "execution_count": null,
      "outputs": [
        {
          "output_type": "stream",
          "text": [
            "loss 0.13827531039714813\n",
            "accuracy 0.8346154093742371\n"
          ],
          "name": "stdout"
        }
      ]
    },
    {
      "cell_type": "code",
      "metadata": {
        "id": "stE1eKVPV4qd"
      },
      "source": [
        "model.save_weights(\"/content/drive/MyDrive/PBL/trained_weights/model1.h5\")\n",
        "model.save(\"/content/drive/MyDrive/PBL/trained_weights/savedmodel.h5\")"
      ],
      "execution_count": null,
      "outputs": []
    },
    {
      "cell_type": "code",
      "metadata": {
        "id": "hYTSY3XalvjN"
      },
      "source": [
        "modelx = load_model(\"/content/drive/MyDrive/PBL/trained_weights/savedmodel.h5\")\n",
        "output_vedio = \"/content/drive/MyDrive/PBL/output1.avi\"\n",
        "Queue = deque(maxlen=128)\n",
        "mean = np.array([123,68, 116.779, 103.939][::1], dtype='float32')"
      ],
      "execution_count": null,
      "outputs": []
    },
    {
      "cell_type": "code",
      "metadata": {
        "id": "Pae5yWwN2wCj",
        "colab": {
          "base_uri": "https://localhost:8080/",
          "height": 643
        },
        "outputId": "46bc8626-9133-4ce9-9b9a-ea1a445f8958"
      },
      "source": [
        "#Plotting the accuracy and loss\n",
        "\n",
        "plt.plot(history.history['accuracy'])\n",
        "plt.plot(history.history['val_accuracy'])\n",
        "plt.title('model accuracy')\n",
        "plt.ylabel('accuracy')\n",
        "plt.xlabel('epoch')\n",
        "plt.legend(['train', 'validation'], loc='upper left')\n",
        "plt.savefig('destination_path.eps', format='eps', dpi=1000)\n",
        "plt.show()\n",
        "\n",
        "\n",
        "plt.plot(history.history['loss'])\n",
        "plt.plot(history.history['val_loss'])\n",
        "plt.title('model loss')\n",
        "plt.ylabel('loss')\n",
        "plt.xlabel('epoch')\n",
        "plt.legend(['train', 'validation'], loc='upper left')\n",
        "plt.savefig('destination_path1.eps', format='eps', dpi=1000)\n",
        "plt.show()"
      ],
      "execution_count": null,
      "outputs": [
        {
          "output_type": "stream",
          "text": [
            "The PostScript backend does not support transparency; partially transparent artists will be rendered opaque.\n",
            "The PostScript backend does not support transparency; partially transparent artists will be rendered opaque.\n"
          ],
          "name": "stderr"
        },
        {
          "output_type": "display_data",
          "data": {
            "image/png": "[encoded data removed]",
            "text/plain": [
              "<Figure size 432x288 with 1 Axes>"
            ]
          },
          "metadata": {
            "tags": [],
            "needs_background": "light"
          }
        },
        {
          "output_type": "stream",
          "text": [
            "The PostScript backend does not support transparency; partially transparent artists will be rendered opaque.\n",
            "The PostScript backend does not support transparency; partially transparent artists will be rendered opaque.\n"
          ],
          "name": "stderr"
        },
        {
          "output_type": "display_data",
          "data": {
            "image/png": "[encoded data removed]",
            "text/plain": [
              "<Figure size 432x288 with 1 Axes>"
            ]
          },
          "metadata": {
            "tags": [],
            "needs_background": "light"
          }
        }
      ]
    },
    {
      "cell_type": "code",
      "metadata": {
        "id": "Zl5a0-NK2wpa",
        "colab": {
          "base_uri": "https://localhost:8080/"
        },
        "outputId": "cb334c2c-edab-4619-9cbf-90f28b2c4ff7"
      },
      "source": [
        "testx = get_transfer_values(\"/content/drive/MyDrive/PBL/fightdata\", \"fi30_xvid.avi\")\n",
        "testx = np.expand_dims(testx, axis=0)\n",
        "testx.shape\n"
      ],
      "execution_count": null,
      "outputs": [
        {
          "output_type": "execute_result",
          "data": {
            "text/plain": [
              "(1, 20, 4096)"
            ]
          },
          "metadata": {
            "tags": []
          },
          "execution_count": 41
        }
      ]
    },
    {
      "cell_type": "code",
      "metadata": {
        "id": "g9WT9--_qqfi"
      },
      "source": [
        "a = model.predict(np.array(testx))\n",
        "np.argmax(a)"
      ],
      "execution_count": null,
      "outputs": []
    },
    {
      "cell_type": "code",
      "metadata": {
        "id": "wErhn-aJm7M9"
      },
      "source": [
        "from google.colab.patches import cv2_imshow"
      ],
      "execution_count": null,
      "outputs": []
    },
    {
      "cell_type": "code",
      "metadata": {
        "id": "Bjpypg8d80zj"
      },
      "source": [
        ""
      ],
      "execution_count": null,
      "outputs": []
    },
    {
      "cell_type": "code",
      "metadata": {
        "id": "KkqmLvr280wj"
      },
      "source": [
        ""
      ],
      "execution_count": null,
      "outputs": []
    },
    {
      "cell_type": "code",
      "metadata": {
        "id": "Zm6STUgT80vW"
      },
      "source": [
        ""
      ],
      "execution_count": null,
      "outputs": []
    },
    {
      "cell_type": "code",
      "metadata": {
        "id": "AFoM8pS_80sq"
      },
      "source": [
        ""
      ],
      "execution_count": null,
      "outputs": []
    },
    {
      "cell_type": "code",
      "metadata": {
        "id": "EBlG7X9U80na"
      },
      "source": [
        ""
      ],
      "execution_count": null,
      "outputs": []
    },
    {
      "cell_type": "code",
      "metadata": {
        "id": "SO4aZQ9980mI"
      },
      "source": [
        ""
      ],
      "execution_count": null,
      "outputs": []
    },
    {
      "cell_type": "code",
      "metadata": {
        "id": "yA_-gFl180eD"
      },
      "source": [
        ""
      ],
      "execution_count": null,
      "outputs": []
    },
    {
      "cell_type": "code",
      "metadata": {
        "id": "IzCy8ede83Tm"
      },
      "source": [
        ""
      ],
      "execution_count": null,
      "outputs": []
    },
    {
      "cell_type": "code",
      "metadata": {
        "id": "GVkD79HG83Qa"
      },
      "source": [
        ""
      ],
      "execution_count": null,
      "outputs": []
    },
    {
      "cell_type": "code",
      "metadata": {
        "id": "zsTS93Ae83OK"
      },
      "source": [
        ""
      ],
      "execution_count": null,
      "outputs": []
    },
    {
      "cell_type": "code",
      "metadata": {
        "id": "d1fYi-TlhUYb",
        "colab": {
          "base_uri": "https://localhost:8080/",
          "height": 541
        },
        "outputId": "c8eb985a-f3d4-4a03-aa3c-797396fc6f9a"
      },
      "source": [
        "\n",
        "\n",
        "capture_vedio = cv2.VideoCapture(\"/content/drive/MyDrive/PBL/fightdata/fi30_xvid.avi\")\n",
        "writer = None\n",
        "(Width, Height) = (None, None)\n",
        "\n",
        "while(True):\n",
        "  taken, frame = capture_vedio.read()\n",
        "\n",
        "  if Width is None or Height is None:\n",
        "    (Width, Height) = frame.shape[:2]\n",
        "\n",
        "  count = 0\n",
        "\n",
        "  images=[]\n",
        "  output = frame\n",
        "  while count<_images_per_file:\n",
        "                \n",
        "        RGB_img = cv2.cvtColor(frame, cv2.COLOR_BGR2RGB)\n",
        "    \n",
        "        res = cv2.resize(RGB_img, dsize=(img_size, img_size),\n",
        "                                 interpolation=cv2.INTER_CUBIC)\n",
        "    \n",
        "        images.append(res)\n",
        "    \n",
        "        taken, frame = capture_vedio.read()\n",
        "    \n",
        "        count += 1\n",
        "        \n",
        "        resul = np.array(images)\n",
        "    \n",
        "        resul = (resul / 255.).astype(np.float16)  \n",
        "\n",
        "\n",
        "\n",
        "  \n",
        "  preds = modelx.predict(np.array(testx)) \n",
        "  Queue.append(preds)\n",
        "  results = np.array(Queue).mean(axis=0)\n",
        "  i = np.argmax(results)\n",
        "  label = [0,1]\n",
        "  text = \" Violence detected: {} \".format(label)\n",
        "  cv2.putText(output, text, (30, 30), cv2.FONT_HERSHEY_SIMPLEX, 1, (0, 0, 255), 4)\n",
        "\n",
        "  \n",
        "  fourcc = cv2.VideoWriter_fourcc(*\"HJPG\")\n",
        "  writer = cv2.VideoWriter(\"outputvedio\", fourcc, 15, (Width, Height), True)\n",
        "  \n",
        "\n",
        "  cv2_imshow(output)\n",
        "  key = cv2.waitKey(1) & 0xFF\n",
        "    \n",
        "  if key == ord(\"q\"):\n",
        "     break\n",
        "\n",
        "  print(\"Finalizing.........\")\n",
        "  writer.release()\n",
        "  capture_vedio.release()    \n"
      ],
      "execution_count": null,
      "outputs": [
        {
          "output_type": "display_data",
          "data": {
            "image/png": "[encoded data removed]",
            "text/plain": [
              "<PIL.Image.Image image mode=RGB size=360x288 at 0x7F91893BF748>"
            ]
          },
          "metadata": {
            "tags": []
          }
        },
        {
          "output_type": "stream",
          "text": [
            "Finalizing.........\n"
          ],
          "name": "stdout"
        },
        {
          "output_type": "error",
          "ename": "error",
          "evalue": "ignored",
          "traceback": [
            "\u001b[0;31m---------------------------------------------------------------------------\u001b[0m",
            "\u001b[0;31merror\u001b[0m                                     Traceback (most recent call last)",
            "\u001b[0;32m<ipython-input-47-c24535ea111c>\u001b[0m in \u001b[0;36m<module>\u001b[0;34m()\u001b[0m\n\u001b[1;32m     17\u001b[0m   \u001b[0;32mwhile\u001b[0m \u001b[0mcount\u001b[0m\u001b[0;34m<\u001b[0m\u001b[0m_images_per_file\u001b[0m\u001b[0;34m:\u001b[0m\u001b[0;34m\u001b[0m\u001b[0;34m\u001b[0m\u001b[0m\n\u001b[1;32m     18\u001b[0m \u001b[0;34m\u001b[0m\u001b[0m\n\u001b[0;32m---> 19\u001b[0;31m         \u001b[0mRGB_img\u001b[0m \u001b[0;34m=\u001b[0m \u001b[0mcv2\u001b[0m\u001b[0;34m.\u001b[0m\u001b[0mcvtColor\u001b[0m\u001b[0;34m(\u001b[0m\u001b[0mframe\u001b[0m\u001b[0;34m,\u001b[0m \u001b[0mcv2\u001b[0m\u001b[0;34m.\u001b[0m\u001b[0mCOLOR_BGR2RGB\u001b[0m\u001b[0;34m)\u001b[0m\u001b[0;34m\u001b[0m\u001b[0;34m\u001b[0m\u001b[0m\n\u001b[0m\u001b[1;32m     20\u001b[0m \u001b[0;34m\u001b[0m\u001b[0m\n\u001b[1;32m     21\u001b[0m         res = cv2.resize(RGB_img, dsize=(img_size, img_size),\n",
            "\u001b[0;31merror\u001b[0m: OpenCV(4.1.2) /io/opencv/modules/imgproc/src/color.cpp:182: error: (-215:Assertion failed) !_src.empty() in function 'cvtColor'\n"
          ]
        }
      ]
    },
    {
      "cell_type": "code",
      "metadata": {
        "id": "zsyfx6yZrBiS"
      },
      "source": [
        "import cv2"
      ],
      "execution_count": null,
      "outputs": []
    },
    {
      "cell_type": "code",
      "metadata": {
        "id": "9tTXMSCpyAPG"
      },
      "source": [
        "# Copy 1\n",
        "\n",
        "capture_vedio = cv2.VideoCapture(\"/content/drive/MyDrive/PBL/fi1_xvid.avi\")\n",
        "writer = None\n",
        "(Width, Height) = (None, None)\n",
        "\n",
        "while(True):\n",
        "  (taken, frame) = capture_vedio.read()\n",
        "\n",
        "  if Width is None or Height is None:\n",
        "    (Width, Height) = frame.shape[:2]\n",
        "\n",
        "\n",
        "  output = frame.copy()\n",
        "  frame = cv2.cvtColor(frame, cv2.COLOR_BGR2RGB)\n",
        "  frame = cv2.resize(frame, (244, 244)).astype(\"float32\")\n",
        "  \n",
        "  preds = modelx.predict(frame)[0] \n",
        "  Queue.append(preds)\n",
        "  results = np.array(Queue).mean(axis=0)\n",
        "  i = np.argmax(results)\n",
        "  label = lb.classes[i]\n",
        "  text = \" Violence detected: {} \".format(label)\n",
        "  cv2.putText(output, text, (45, 60), cv2.FONT_HERSHEY_SIMPLEX, 1.25, (255, 0, 0), 5)\n",
        "\n",
        "  if writer is None:\n",
        "    fourcc = cv2.VideoWriter_fourcc(*\"HJPG\")\n",
        "    writer = cv2.VideoWriter(\"outputvedio\", fourcc, 30, (Width, Height), True)\n",
        "    writer = write(output)\n",
        "\n",
        "    cv2.imshow(\"In progress\", output)\n",
        "    key = cv2.waitKey(1) & 0xFF\n",
        "    \n",
        "    if key == ord(\"q\"):\n",
        "      break\n",
        "\n",
        "  print(\"Finalizing.........\")\n",
        "  writer.release()\n",
        "  capture_video.release()    \n"
      ],
      "execution_count": null,
      "outputs": []
    },
    {
      "cell_type": "code",
      "metadata": {
        "id": "TY5_z6uo2GT_"
      },
      "source": [
        "a = np.array(data)\n",
        "a.shape"
      ],
      "execution_count": null,
      "outputs": []
    },
    {
      "cell_type": "code",
      "metadata": {
        "id": "NZkxdIe-2HPa"
      },
      "source": [
        ""
      ],
      "execution_count": null,
      "outputs": []
    }
  ]
}